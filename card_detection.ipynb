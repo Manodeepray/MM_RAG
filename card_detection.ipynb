{
 "cells": [
  {
   "cell_type": "code",
   "execution_count": 2,
   "id": "aa919b83-1b30-4190-9731-8a69cc12eb85",
   "metadata": {},
   "outputs": [
    {
     "name": "stderr",
     "output_type": "stream",
     "text": [
      "/home/manodeep/projects/MM_RAG_SAIL/.venv/lib/python3.12/site-packages/tqdm/auto.py:21: TqdmWarning: IProgress not found. Please update jupyter and ipywidgets. See https://ipywidgets.readthedocs.io/en/stable/user_install.html\n",
      "  from .autonotebook import tqdm as notebook_tqdm\n"
     ]
    }
   ],
   "source": [
    "# Load model directly\n",
    "from transformers import AutoProcessor, AutoModelForImageTextToText\n",
    "\n",
    "processor = AutoProcessor.from_pretrained(\"ds4sd/SmolDocling-256M-preview\")\n",
    "model = AutoModelForImageTextToText.from_pretrained(\"ds4sd/SmolDocling-256M-preview\")"
   ]
  },
  {
   "cell_type": "code",
   "execution_count": 3,
   "id": "42492c01-8eb5-4be4-a586-062296235f6d",
   "metadata": {},
   "outputs": [],
   "source": [
    "from transformers.image_utils import load_image\n"
   ]
  },
  {
   "cell_type": "code",
   "execution_count": 4,
   "id": "608777ed-a881-4a86-8d34-48258341db5d",
   "metadata": {},
   "outputs": [],
   "source": [
    "img_path = \"20240625_154117.jpg\"\n",
    "image = load_image(img_path)\n",
    "\n",
    "images = [image]"
   ]
  },
  {
   "cell_type": "code",
   "execution_count": 5,
   "id": "3be8c16c-dbec-487b-8c03-53fb35dcf459",
   "metadata": {},
   "outputs": [],
   "source": [
    "import requests\n",
    "import torch\n",
    "from PIL import Image\n",
    "from io import BytesIO\n",
    "\n",
    "\n",
    "# Create inputs\n",
    "message = [\n",
    "    {\n",
    "        \"role\": \"user\",\n",
    "        \"content\": [\n",
    "            {\"type\": \"image\"},\n",
    "            {\"type\": \"text\", \"text\": \"what is written in the image?\"},\n",
    "        ]\n",
    "    }\n",
    "]\n",
    "\n",
    "prompts = [processor.apply_chat_template([m], add_generation_prompt=True) for m in message]\n"
   ]
  },
  {
   "cell_type": "code",
   "execution_count": 6,
   "id": "94bc2677-8249-4e5c-bf15-9402877f18fd",
   "metadata": {},
   "outputs": [
    {
     "name": "stderr",
     "output_type": "stream",
     "text": [
      "/home/manodeep/projects/MM_RAG_SAIL/.venv/lib/python3.12/site-packages/transformers/tokenization_utils_base.py:2714: UserWarning: `max_length` is ignored when `padding`=`True` and there is no truncation strategy. To pad to max length, use `padding='max_length'`.\n",
      "  warnings.warn(\n"
     ]
    },
    {
     "name": "stdout",
     "output_type": "stream",
     "text": [
      "User:\n",
      "\n",
      "\n",
      "\n",
      "what is written in the image?\n",
      "Assistant: Professor Rajaai Cherkaoui El Moursli member of Hassan II Academy of Science and Technology . <ocr> University Mohammed V Universite Faculte des Sciences Rabat Professor Rajaai Cherkaoui El Moursli Member of Hassan II Academy of Science and Technology Avenue Ibn Batouta. BP 1014 . Agdal.Rabat Tel : + 212 (0) 5 37 77 18 34/35/38 r.cherkaoui@academiesciences.ma Fax : + 212 (0) 5 37 77 42 61 Gsm : +212 661 47 11 85 / 06 62 07 94 00 Site web : www.fsr.ac.ma scholar.um5.ac.ma/rajaa.cherkaoui E-mail : rajaa.cherkaoui@um5.ac.ma r.cherkaoui@academiesciences.ma Gsm : +212 661 47 11 \n"
     ]
    }
   ],
   "source": [
    "\n",
    "inputs = processor(text=prompts, images=images, padding=True, return_tensors=\"pt\").to(model.device)\n",
    "\n",
    "# Generate\n",
    "generated_ids = model.generate(**inputs, max_new_tokens=256)\n",
    "generated_texts = processor.batch_decode(generated_ids, skip_special_tokens=True)\n",
    "\n",
    "OCR_text = generated_texts[0] \n",
    "\n",
    "print(generated_texts[0])\n",
    "\n"
   ]
  },
  {
   "cell_type": "code",
   "execution_count": 14,
   "id": "9727fb30-7b0b-450c-b4d1-0458ed7cbe6b",
   "metadata": {},
   "outputs": [
    {
     "data": {
      "text/plain": [
       "': Professor Rajaai Cherkaoui El Moursli member of Hassan II Academy of Science and Technology . <ocr> University Mohammed V Universite Faculte des Sciences Rabat Professor Rajaai Cherkaoui El Moursli Member of Hassan II Academy of Science and Technology Avenue Ibn Batouta. BP 1014 . Agdal.Rabat Tel : + 212 (0) 5 37 77 18 34/35/38 r.cherkaoui@academiesciences.ma Fax : + 212 (0) 5 37 77 42 61 Gsm : +212 661 47 11 85 / 06 62 07 94 00 Site web : www.fsr.ac.ma scholar.um5.ac.ma/rajaa.cherkaoui E-mail : rajaa.cherkaoui@um5.ac.ma r.cherkaoui@academiesciences.ma Gsm : +212 661 47 11 '"
      ]
     },
     "execution_count": 14,
     "metadata": {},
     "output_type": "execute_result"
    }
   ],
   "source": [
    "OCR_text = OCR_text.split(\"Assistant\")[1]\n",
    "OCR_text"
   ]
  },
  {
   "cell_type": "code",
   "execution_count": 7,
   "id": "adde440f-d340-47b1-b88a-1ef543386da7",
   "metadata": {},
   "outputs": [],
   "source": [
    "\n",
    "\n",
    "try:\n",
    "    import groq\n",
    "    from groq import Groq\n",
    "except:\n",
    "    !uv pip install groq"
   ]
  },
  {
   "cell_type": "code",
   "execution_count": 8,
   "id": "dcbae470-26b2-41a2-b57f-075f5962afd1",
   "metadata": {},
   "outputs": [],
   "source": [
    "GROQ_API_KEY = \"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\"\n",
    "\n",
    "class LLM:\n",
    "\n",
    "    def __init__(self) -> None:\n",
    "        \n",
    "        self.llm  = Groq(\n",
    "                    api_key=GROQ_API_KEY,\n",
    "                    )   \n",
    "        self.response_count : int = 0\n",
    "        \n",
    "        self.response_limit : int = 100\n",
    "\n",
    "    def get_response(self  , prompt : str , ) -> str:\n",
    "        \n",
    "        if self.response_count <= self.response_limit:\n",
    "            \n",
    "            response  = self.llm.chat.completions.create(\n",
    "                        messages=[\n",
    "                            {\n",
    "                                \"role\": \"user\",\n",
    "                                \"content\": f\"{prompt}\",\n",
    "                            }\n",
    "                        ],\n",
    "                        model=\"llama-3.3-70b-versatile\",\n",
    "                    )\n",
    "            \n",
    "            self.response_count += 1\n",
    "        \n",
    "        else : response = \"rate limit exceedee\"\n",
    "        \n",
    "        \n",
    "        return response\n",
    "        \n",
    "llm = LLM()\n",
    "\n",
    "    "
   ]
  },
  {
   "cell_type": "code",
   "execution_count": 12,
   "id": "438e8882-1a28-4bc4-a305-e6b549080062",
   "metadata": {},
   "outputs": [],
   "source": [
    "structure_prompt = \"\"\"{\n",
    "  \"type\": \"person\",              //\"person\" or \"organization\"\n",
    "  \"name\": \"Full Name or Organization Name\",\n",
    "  \"title\": \"Job Title or Role\",  // e.g., \"Professor\", \"CEO\"\n",
    "  \"affiliations\": [\n",
    "    {\n",
    "      \"institution\": \"Institution Name\",\n",
    "      \"department\": \"Department Name\",  // Optional\n",
    "      \"role\": \"Position/Role\",\n",
    "      \"start_date\": \"YYYY-MM-DD\",      // Optional\n",
    "      \"end_date\": \"YYYY-MM-DD\"         // Optional\n",
    "    }\n",
    "  ],\n",
    "  \"contact_details\": {\n",
    "    \"addresses\": [\n",
    "      {\n",
    "        \"type\": \"work\",               // \"work\", \"home\", \"branch\"\n",
    "        \"street\": \"123 Main St\",\n",
    "        \"city\": \"City\",\n",
    "        \"state\": \"State/Province\",     // Optional\n",
    "        \"postal_code\": \"12345\",\n",
    "        \"country\": \"Country\"\n",
    "      }\n",
    "    ],\n",
    "    \"phones\": [\n",
    "      {\n",
    "        \"type\": \"work\",               // \"work\", \"mobile\", \"fax\"\n",
    "        \"number\": \"+1234567890\",\n",
    "        \"extension\": \"123\"            // Optional\n",
    "      }\n",
    "    ],\n",
    "    \"emails\": [\n",
    "      {\n",
    "        \"type\": \"work\",               // \"work\", \"personal\"\n",
    "        \"address\": \"name@domain.com\"\n",
    "      }\n",
    "    ],\n",
    "    \"websites\": [\n",
    "      {\n",
    "        \"type\": \"official\",           // \"official\", \"portfolio\", \"social\"\n",
    "        \"url\": \"https://...\"\n",
    "      }\n",
    "    ],\n",
    "    \"social_media\": [                 // Optional\n",
    "      {\n",
    "        \"platform\": \"linkedin\",       // \"twitter\", \"github\", etc.\n",
    "        \"url\": \"https://linkedin.com/...\"\n",
    "      }\n",
    "    ]\n",
    "  },\n",
    "  \"tags\": [\"physics\", \"academia\"],   // Optional: For categorization\n",
    "  \"metadata\": {\n",
    "    \"source\": \"ocr\",                 // \"manual\", \"api\", \"csv_import\"\n",
    "    \"confidence\": 0.95,              // Optional: OCR confidence score\n",
    "    \"created_at\": \"YYYY-MM-DD\",\n",
    "    \"last_updated\": \"YYYY-MM-DD\"\n",
    "  },\n",
    "  \"notes\": \"Additional context...\"   // Optional\n",
    "}\n",
    "\"\"\"\n",
    "\n"
   ]
  },
  {
   "cell_type": "code",
   "execution_count": 10,
   "id": "54e78c05-a5bf-4cf0-a848-00059dbec8ec",
   "metadata": {},
   "outputs": [],
   "source": [
    "structure = {\n",
    "  \"type\": \"person\",              #\"person\" or \"organization\"\n",
    "  \"name\": \"Full Name or Organization Name\",\n",
    "  \"title\": \"Job Title or Role\",  # e.g., \"Professor\", \"CEO\"\n",
    "  \"photo_url\": \"https://...\",    # Optional: Link to image/avatar\n",
    "  \"affiliations\": [\n",
    "    {\n",
    "      \"institution\": \"Institution Name\",\n",
    "      \"department\": \"Department Name\",  # Optional\n",
    "      \"role\": \"Position/Role\",\n",
    "      \"start_date\": \"YYYY-MM-DD\",      # Optional\n",
    "      \"end_date\": \"YYYY-MM-DD\"         # Optional\n",
    "    }\n",
    "  ],\n",
    "  \"contact_details\": {\n",
    "    \"addresses\": [\n",
    "      {\n",
    "        \"type\": \"work\",               # \"work\", \"home\", \"branch\"\n",
    "        \"street\": \"123 Main St\",\n",
    "        \"city\": \"City\",\n",
    "        \"state\": \"State/Province\",     # Optional\n",
    "        \"postal_code\": \"12345\",\n",
    "        \"country\": \"Country\"\n",
    "      }\n",
    "    ],\n",
    "    \"phones\": [\n",
    "      {\n",
    "        \"type\": \"work\",               # \"work\", \"mobile\", \"fax\"\n",
    "        \"number\": \"+1234567890\",\n",
    "        \"extension\": \"123\"           # Optional\n",
    "      }\n",
    "    ],\n",
    "    \"emails\": [\n",
    "      {\n",
    "        \"type\": \"work\",              # \"work\", \"personal\"\n",
    "        \"address\": \"name@domain.com\"\n",
    "      }\n",
    "    ],\n",
    "    \"websites\": [\n",
    "      {\n",
    "        \"type\": \"official\",           # \"official\", \"portfolio\", \"social\"\n",
    "        \"url\": \"https://...\"\n",
    "      }\n",
    "    ],\n",
    "    \"social_media\": [                 # Optional\n",
    "      {\n",
    "        \"platform\": \"linkedin\",       # \"twitter\", \"github\", etc.\n",
    "        \"url\": \"https://linkedin.com/...\"\n",
    "      }\n",
    "    ]\n",
    "  },\n",
    "  \"tags\": [\"physics\", \"academia\"],   # Optional: For categorization\n",
    "  \"metadata\": {\n",
    "    \"source\": \"ocr\",                 # \"manual\", \"api\", \"csv_import\"\n",
    "    \"confidence\": 0.95,              # Optional: OCR confidence score\n",
    "    \"created_at\": \"YYYY-MM-DD\",\n",
    "    \"last_updated\": \"YYYY-MM-DD\"\n",
    "  },\n",
    "  \"notes\": \"Additional context...\"   # Optional\n",
    "}\n",
    "\n",
    "\n"
   ]
  },
  {
   "cell_type": "code",
   "execution_count": 64,
   "id": "37df98e9-6454-4fa5-94e3-9d29aac13b7e",
   "metadata": {},
   "outputs": [
    {
     "name": "stderr",
     "output_type": "stream",
     "text": [
      "<>:96: SyntaxWarning: invalid escape sequence '\\_'\n",
      "<>:96: SyntaxWarning: invalid escape sequence '\\_'\n",
      "/tmp/ipykernel_34935/2020857678.py:96: SyntaxWarning: invalid escape sequence '\\_'\n",
      "  \"\"\"\n"
     ]
    }
   ],
   "source": [
    "prompt = f\"\"\" Here's your **LLM system prompt** version for an OCR-to-Structured Contact Card Parsing agent. This is formatted to guide the LLM's behavior and outputs consistently:\n",
    "\n",
    "---\n",
    "\n",
    "**System Prompt: OCR-to-Structured Contact Card Parser**\n",
    "\n",
    "You are an expert information extraction agent. Your task is to **convert OCR-scanned text into a structured contact card** object by extracting and categorizing all visible entities. Follow the exact field definitions and formatting instructions strictly.\n",
    "\n",
    "---\n",
    "\n",
    "### **Task**\n",
    "\n",
    "Parse the given OCR text into a JSON object representing a structured contact card.\n",
    "\n",
    "---\n",
    "\n",
    "### **Field Definitions**\n",
    "\n",
    "* **name** (`string`):\n",
    "  Full name of the person or organization.\n",
    "  Format: `\"FirstName LastName\"` or `\"Organization Name\"`.\n",
    "  Example: `\"Rajaai Cherkaoui El Moursli\"`.\n",
    "\n",
    "* **title** (`string | null`):\n",
    "  Job title or role (e.g., `\"Professor\"`, `\"CEO\"`). Omit if not clearly present.\n",
    "\n",
    "* **type** (`string`):\n",
    "  `\"person\"` or `\"organization\"` depending on the subject of the contact card.\n",
    "\n",
    "* **affiliations** (`list of objects`):\n",
    "  Each affiliation must include:\n",
    "\n",
    "  * `institution` (`string`)\n",
    "  * `department` (`string | null`)\n",
    "  * `role` (`string | null`)\n",
    "\n",
    "* **contact\\_details** (`object`):\n",
    "\n",
    "  * `addresses` (`list of objects`):\n",
    "    Each object must include:\n",
    "\n",
    "    * `type` (`string`): `\"work\"`, `\"home\"`, or `\"branch\"`\n",
    "    * `street` (`string`)\n",
    "    * `city` (`string`)\n",
    "    * `country` (`string`)\n",
    "    * `postal_code` (`string | null`)\n",
    "\n",
    "  * `phones` (`list of objects`):\n",
    "    Each object must include:\n",
    "\n",
    "    * `type` (`string`): `\"work\"`, `\"mobile\"`, or `\"fax\"`\n",
    "    * `number` (`string`): Include country code (e.g., `\"+212 661 47 11 85\"`)\n",
    "    * `extension` (`string | null`)\n",
    "\n",
    "  * `emails` (`list of objects`):\n",
    "    Each object must include:\n",
    "\n",
    "    * `type` (`string`): `\"work\"` or `\"personal\"`\n",
    "    * `address` (`string`): Must be valid email format\n",
    "\n",
    "  * `websites` (`list of objects`):\n",
    "    Each object must include:\n",
    "\n",
    "    * `type` (`string`): `\"official\"`, `\"portfolio\"`, or `\"social\"`\n",
    "    * `url` (`string`): Full URL (e.g., `\"https://www.fsr.ac.ma\"`)\n",
    "\n",
    "* **tags** (`list of strings | null`):\n",
    "  Domain categories, such as `[\"academia\", \"physics\" , etc]`. Omit if unclear.\n",
    "\n",
    "* **metadata** (`object`):\n",
    "\n",
    "  * `source` (`string`): `\"ocr\"`, `\"manual\"`, or `\"api\"`\n",
    "  * `confidence` (`float | null`): OCR confidence score between `0.0` and `1.0`\n",
    "\n",
    "---\n",
    "\n",
    "### **Instructions**\n",
    "\n",
    "* **Extract only from the provided OCR text**. Never invent or infer data.\n",
    "* **Normalize** noisy formats (e.g., `\"Tel:\" → \"+212...\"`).\n",
    "* **Prioritize** official contact details if multiple are present.\n",
    "* **Validate** data: Omit entries that are ambiguous or unreadable.\n",
    "* **Strict typing**: All data must match exactly the expected JSON schema.\n",
    "* **Omit** any field that has no visible or validated data.\n",
    "\n",
    "---\n",
    "\n",
    "### **Output Format**\n",
    "\n",
    "Respond with a **single JSON object** following the structure and types above. Do not include explanatory text, markdown, or commentary — just valid, formatted JSON.\n",
    "\n",
    "\n",
    "OCR CONTACT INFORMATION = {OCR_text}\n",
    "\n",
    "STRUCTURED_JSON : \n",
    "\"\"\""
   ]
  },
  {
   "cell_type": "code",
   "execution_count": 22,
   "id": "21f9491d-1c3c-4583-9a90-573a6b77bf5f",
   "metadata": {},
   "outputs": [
    {
     "data": {
      "text/plain": [
       "[Choice(finish_reason='stop', index=0, logprobs=None, message=ChatCompletionMessage(content='```json\\n{\\n  \"name\": \"Rajaai Cherkaoui El Moursli\",\\n  \"title\": \"Professor\",\\n  \"type\": \"person\",\\n  \"affiliations\": [\\n    {\\n      \"institution\": \"Hassan II Academy of Science and Technology\",\\n      \"department\": null,\\n      \"role\": \"Member\"\\n    },\\n    {\\n      \"institution\": \"University Mohammed V\",\\n      \"department\": \"Faculte des Sciences\",\\n      \"role\": \"Professor\"\\n    }\\n  ],\\n  \"contact_details\": {\\n    \"addresses\": [\\n      {\\n        \"type\": \"work\",\\n        \"street\": \"Avenue Ibn Batouta\",\\n        \"city\": \"Rabat\",\\n        \"country\": null,\\n        \"postal_code\": \"BP 1014\"\\n      }\\n    ],\\n    \"phones\": [\\n      {\\n        \"type\": \"work\",\\n        \"number\": \"+212 537 77 18 34\",\\n        \"extension\": null\\n      },\\n      {\\n        \"type\": \"work\",\\n        \"number\": \"+212 537 77 18 35\",\\n        \"extension\": null\\n      },\\n      {\\n        \"type\": \"work\",\\n        \"number\": \"+212 537 77 18 38\",\\n        \"extension\": null\\n      },\\n      {\\n        \"type\": \"fax\",\\n        \"number\": \"+212 537 77 42 61\",\\n        \"extension\": null\\n      },\\n      {\\n        \"type\": \"mobile\",\\n        \"number\": \"+212 661 47 11 85\",\\n        \"extension\": null\\n      },\\n      {\\n        \"type\": \"mobile\",\\n        \"number\": \"+212 662 07 94 00\",\\n        \"extension\": null\\n      }\\n    ],\\n    \"emails\": [\\n      {\\n        \"type\": \"work\",\\n        \"address\": \"r.cherkaoui@academiesciences.ma\"\\n      },\\n      {\\n        \"type\": \"work\",\\n        \"address\": \"rajaa.cherkaoui@um5.ac.ma\"\\n      }\\n    ],\\n    \"websites\": [\\n      {\\n        \"type\": \"official\",\\n        \"url\": \"https://www.fsr.ac.ma\"\\n      },\\n      {\\n        \"type\": \"portfolio\",\\n        \"url\": \"https://scholar.um5.ac.ma/rajaa.cherkaoui\"\\n      }\\n    ]\\n  },\\n  \"tags\": [\\n    \"academia\",\\n    \"science\"\\n  ],\\n  \"metadata\": {\\n    \"source\": \"ocr\",\\n    \"confidence\": null\\n  }\\n}\\n```', role='assistant', executed_tools=None, function_call=None, reasoning=None, tool_calls=None))]"
      ]
     },
     "execution_count": 22,
     "metadata": {},
     "output_type": "execute_result"
    }
   ],
   "source": [
    "response = llm.get_response(prompt)\n",
    "\n",
    "response.choices"
   ]
  },
  {
   "cell_type": "code",
   "execution_count": 24,
   "id": "7fe6fd56-80f9-4cc4-8252-5723500d605d",
   "metadata": {},
   "outputs": [],
   "source": [
    "output = response.choices[0].message.content"
   ]
  },
  {
   "cell_type": "code",
   "execution_count": 29,
   "id": "5537b8f2-b9e2-4285-84c4-a308c253212e",
   "metadata": {},
   "outputs": [],
   "source": [
    "cleaned = output.replace(\"\\n\" , \"\")\n",
    "cleaned = cleaned.replace(\"json\" , \"\")\n",
    "cleaned = cleaned.replace(\"```\" , \"\")"
   ]
  },
  {
   "cell_type": "code",
   "execution_count": 30,
   "id": "8fb17b52-1aba-4a7d-a3b8-5e4544190eaa",
   "metadata": {},
   "outputs": [
    {
     "data": {
      "text/plain": [
       "'{  \"name\": \"Rajaai Cherkaoui El Moursli\",  \"title\": \"Professor\",  \"type\": \"person\",  \"affiliations\": [    {      \"institution\": \"Hassan II Academy of Science and Technology\",      \"department\": null,      \"role\": \"Member\"    },    {      \"institution\": \"University Mohammed V\",      \"department\": \"Faculte des Sciences\",      \"role\": \"Professor\"    }  ],  \"contact_details\": {    \"addresses\": [      {        \"type\": \"work\",        \"street\": \"Avenue Ibn Batouta\",        \"city\": \"Rabat\",        \"country\": null,        \"postal_code\": \"BP 1014\"      }    ],    \"phones\": [      {        \"type\": \"work\",        \"number\": \"+212 537 77 18 34\",        \"extension\": null      },      {        \"type\": \"work\",        \"number\": \"+212 537 77 18 35\",        \"extension\": null      },      {        \"type\": \"work\",        \"number\": \"+212 537 77 18 38\",        \"extension\": null      },      {        \"type\": \"fax\",        \"number\": \"+212 537 77 42 61\",        \"extension\": null      },      {        \"type\": \"mobile\",        \"number\": \"+212 661 47 11 85\",        \"extension\": null      },      {        \"type\": \"mobile\",        \"number\": \"+212 662 07 94 00\",        \"extension\": null      }    ],    \"emails\": [      {        \"type\": \"work\",        \"address\": \"r.cherkaoui@academiesciences.ma\"      },      {        \"type\": \"work\",        \"address\": \"rajaa.cherkaoui@um5.ac.ma\"      }    ],    \"websites\": [      {        \"type\": \"official\",        \"url\": \"https://www.fsr.ac.ma\"      },      {        \"type\": \"portfolio\",        \"url\": \"https://scholar.um5.ac.ma/rajaa.cherkaoui\"      }    ]  },  \"tags\": [    \"academia\",    \"science\"  ],  \"metadata\": {    \"source\": \"ocr\",    \"confidence\": null  }}'"
      ]
     },
     "execution_count": 30,
     "metadata": {},
     "output_type": "execute_result"
    }
   ],
   "source": [
    "cleaned "
   ]
  },
  {
   "cell_type": "code",
   "execution_count": 31,
   "id": "a7f12b9c-61fc-421f-8151-be611f525f6a",
   "metadata": {},
   "outputs": [
    {
     "name": "stdout",
     "output_type": "stream",
     "text": [
      "{'name': 'Rajaai Cherkaoui El Moursli', 'title': 'Professor', 'type': 'person', 'affiliations': [{'institution': 'Hassan II Academy of Science and Technology', 'department': None, 'role': 'Member'}, {'institution': 'University Mohammed V', 'department': 'Faculte des Sciences', 'role': 'Professor'}], 'contact_details': {'addresses': [{'type': 'work', 'street': 'Avenue Ibn Batouta', 'city': 'Rabat', 'country': None, 'postal_code': 'BP 1014'}], 'phones': [{'type': 'work', 'number': '+212 537 77 18 34', 'extension': None}, {'type': 'work', 'number': '+212 537 77 18 35', 'extension': None}, {'type': 'work', 'number': '+212 537 77 18 38', 'extension': None}, {'type': 'fax', 'number': '+212 537 77 42 61', 'extension': None}, {'type': 'mobile', 'number': '+212 661 47 11 85', 'extension': None}, {'type': 'mobile', 'number': '+212 662 07 94 00', 'extension': None}], 'emails': [{'type': 'work', 'address': 'r.cherkaoui@academiesciences.ma'}, {'type': 'work', 'address': 'rajaa.cherkaoui@um5.ac.ma'}], 'websites': [{'type': 'official', 'url': 'https://www.fsr.ac.ma'}, {'type': 'portfolio', 'url': 'https://scholar.um5.ac.ma/rajaa.cherkaoui'}]}, 'tags': ['academia', 'science'], 'metadata': {'source': 'ocr', 'confidence': None}}\n"
     ]
    }
   ],
   "source": [
    "import json\n",
    "from typing import Dict, Any\n",
    "\n",
    "def json_string_to_dict(json_str: str) -> Dict[str, Any]:\n",
    "    \"\"\"Converts a JSON string to a Python dictionary with validation.\"\"\"\n",
    "    try:\n",
    "        # Convert JSON string to dictionary\n",
    "        contact_dict = json.loads(json_str)\n",
    "        \n",
    "        # Validate required fields\n",
    "        required_fields = ['name', 'type', 'contact_details']\n",
    "        for field in required_fields:\n",
    "            if field not in contact_dict:\n",
    "                raise ValueError(f\"Missing required field: {field}\")\n",
    "        \n",
    "        # Validate type\n",
    "        if contact_dict['type'] not in ['person', 'organization']:\n",
    "            raise ValueError(\"Type must be either 'person' or 'organization'\")\n",
    "            \n",
    "        return contact_dict\n",
    "    \n",
    "    except json.JSONDecodeError as e:\n",
    "        raise ValueError(f\"Invalid JSON format: {str(e)}\")\n",
    "\n",
    "contact_dict = json_string_to_dict(cleaned)\n",
    "print(contact_dict)"
   ]
  },
  {
   "cell_type": "code",
   "execution_count": 32,
   "id": "b29e8b9e-156f-45c7-b4fb-1df53118c831",
   "metadata": {},
   "outputs": [],
   "source": [
    "import pprint"
   ]
  },
  {
   "cell_type": "code",
   "execution_count": 34,
   "id": "75773e26-35be-4b68-82ce-4cfa3caec0d2",
   "metadata": {},
   "outputs": [
    {
     "name": "stdout",
     "output_type": "stream",
     "text": [
      "{'affiliations': [{'department': None,\n",
      "                   'institution': 'Hassan II Academy of Science and Technology',\n",
      "                   'role': 'Member'},\n",
      "                  {'department': 'Faculte des Sciences',\n",
      "                   'institution': 'University Mohammed V',\n",
      "                   'role': 'Professor'}],\n",
      " 'contact_details': {'addresses': [{'city': 'Rabat',\n",
      "                                    'country': None,\n",
      "                                    'postal_code': 'BP 1014',\n",
      "                                    'street': 'Avenue Ibn Batouta',\n",
      "                                    'type': 'work'}],\n",
      "                     'emails': [{'address': 'r.cherkaoui@academiesciences.ma',\n",
      "                                 'type': 'work'},\n",
      "                                {'address': 'rajaa.cherkaoui@um5.ac.ma',\n",
      "                                 'type': 'work'}],\n",
      "                     'phones': [{'extension': None,\n",
      "                                 'number': '+212 537 77 18 34',\n",
      "                                 'type': 'work'},\n",
      "                                {'extension': None,\n",
      "                                 'number': '+212 537 77 18 35',\n",
      "                                 'type': 'work'},\n",
      "                                {'extension': None,\n",
      "                                 'number': '+212 537 77 18 38',\n",
      "                                 'type': 'work'},\n",
      "                                {'extension': None,\n",
      "                                 'number': '+212 537 77 42 61',\n",
      "                                 'type': 'fax'},\n",
      "                                {'extension': None,\n",
      "                                 'number': '+212 661 47 11 85',\n",
      "                                 'type': 'mobile'},\n",
      "                                {'extension': None,\n",
      "                                 'number': '+212 662 07 94 00',\n",
      "                                 'type': 'mobile'}],\n",
      "                     'websites': [{'type': 'official',\n",
      "                                   'url': 'https://www.fsr.ac.ma'},\n",
      "                                  {'type': 'portfolio',\n",
      "                                   'url': 'https://scholar.um5.ac.ma/rajaa.cherkaoui'}]},\n",
      " 'metadata': {'confidence': None, 'source': 'ocr'},\n",
      " 'name': 'Rajaai Cherkaoui El Moursli',\n",
      " 'tags': ['academia', 'science'],\n",
      " 'title': 'Professor',\n",
      " 'type': 'person'}\n"
     ]
    }
   ],
   "source": [
    "pprint.pprint(contact_dict)"
   ]
  },
  {
   "cell_type": "code",
   "execution_count": 59,
   "id": "707467e4-c8ff-4bdf-afef-0acdc45ba456",
   "metadata": {},
   "outputs": [],
   "source": [
    "import time \n",
    "\n",
    "def generate_metadata(image_path):\n",
    "    metadata = {}\n",
    "    \n",
    "    metadata[\"creation_time\"] = datetime.datetime.now().isoformat()\n",
    "    metadata[\"source\"] = image_path\n",
    "\n",
    "    return metadata\n",
    "    "
   ]
  },
  {
   "cell_type": "code",
   "execution_count": 60,
   "id": "11e9cf71-e29f-4476-92aa-ecf34558078b",
   "metadata": {},
   "outputs": [],
   "source": [
    "metadata = generate_metadata(img_path)"
   ]
  },
  {
   "cell_type": "code",
   "execution_count": 62,
   "id": "84dfaaf2-c58e-40dc-9516-ba79d68c308a",
   "metadata": {},
   "outputs": [],
   "source": [
    "contact_dict['metadata'].update(metadata)"
   ]
  },
  {
   "cell_type": "code",
   "execution_count": 63,
   "id": "f4aac84f-e07b-4a99-a02f-7bce0e1034b5",
   "metadata": {},
   "outputs": [
    {
     "name": "stdout",
     "output_type": "stream",
     "text": [
      "{'affiliations': [{'department': None,\n",
      "                   'institution': 'Hassan II Academy of Science and Technology',\n",
      "                   'role': 'Member'},\n",
      "                  {'department': 'Faculte des Sciences',\n",
      "                   'institution': 'University Mohammed V',\n",
      "                   'role': 'Professor'}],\n",
      " 'contact_details': {'addresses': [{'city': 'Rabat',\n",
      "                                    'country': None,\n",
      "                                    'postal_code': 'BP 1014',\n",
      "                                    'street': 'Avenue Ibn Batouta',\n",
      "                                    'type': 'work'}],\n",
      "                     'emails': [{'address': 'r.cherkaoui@academiesciences.ma',\n",
      "                                 'type': 'work'},\n",
      "                                {'address': 'rajaa.cherkaoui@um5.ac.ma',\n",
      "                                 'type': 'work'}],\n",
      "                     'phones': [{'extension': None,\n",
      "                                 'number': '+212 537 77 18 34',\n",
      "                                 'type': 'work'},\n",
      "                                {'extension': None,\n",
      "                                 'number': '+212 537 77 18 35',\n",
      "                                 'type': 'work'},\n",
      "                                {'extension': None,\n",
      "                                 'number': '+212 537 77 18 38',\n",
      "                                 'type': 'work'},\n",
      "                                {'extension': None,\n",
      "                                 'number': '+212 537 77 42 61',\n",
      "                                 'type': 'fax'},\n",
      "                                {'extension': None,\n",
      "                                 'number': '+212 661 47 11 85',\n",
      "                                 'type': 'mobile'},\n",
      "                                {'extension': None,\n",
      "                                 'number': '+212 662 07 94 00',\n",
      "                                 'type': 'mobile'}],\n",
      "                     'websites': [{'type': 'official',\n",
      "                                   'url': 'https://www.fsr.ac.ma'},\n",
      "                                  {'type': 'portfolio',\n",
      "                                   'url': 'https://scholar.um5.ac.ma/rajaa.cherkaoui'}]},\n",
      " 'metadata': {'confidence': None,\n",
      "              'creation_time': '2025-06-11T00:05:42.598923',\n",
      "              'source': '20240625_154117.jpg'},\n",
      " 'name': 'Rajaai Cherkaoui El Moursli',\n",
      " 'tags': ['academia', 'science'],\n",
      " 'title': 'Professor',\n",
      " 'type': 'person'}\n"
     ]
    }
   ],
   "source": [
    "pprint.pprint(contact_dict)"
   ]
  },
  {
   "cell_type": "markdown",
   "id": "4b940688-8352-4000-8a61-fc2bf6a6bf42",
   "metadata": {},
   "source": [
    "## adding background info"
   ]
  },
  {
   "cell_type": "code",
   "execution_count": 65,
   "id": "c29b9e32-3b15-438d-8f65-a0f701580c23",
   "metadata": {},
   "outputs": [],
   "source": [
    "background_info = {\n",
    "\n",
    "    'company_details' : None,\n",
    "    'individual_detail' :None\n",
    "    \n",
    "}"
   ]
  },
  {
   "cell_type": "code",
   "execution_count": null,
   "id": "66e4b6a1-5b6c-4129-9634-9de9583431e7",
   "metadata": {},
   "outputs": [],
   "source": []
  }
 ],
 "metadata": {
  "kernelspec": {
   "display_name": "MM_RAG_SAIL",
   "language": "python",
   "name": "mm_rag_sail"
  },
  "language_info": {
   "codemirror_mode": {
    "name": "ipython",
    "version": 3
   },
   "file_extension": ".py",
   "mimetype": "text/x-python",
   "name": "python",
   "nbconvert_exporter": "python",
   "pygments_lexer": "ipython3",
   "version": "3.12.3"
  }
 },
 "nbformat": 4,
 "nbformat_minor": 5
}
